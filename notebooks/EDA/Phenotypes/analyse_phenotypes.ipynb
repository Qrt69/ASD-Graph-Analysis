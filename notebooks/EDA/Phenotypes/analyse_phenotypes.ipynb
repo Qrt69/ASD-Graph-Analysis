{
 "cells": [
  {
   "metadata": {},
   "cell_type": "markdown",
   "source": "# Introduction",
   "id": "5483024e7951cd37"
  },
  {
   "metadata": {},
   "cell_type": "markdown",
   "source": "In this notebook, we look at the csv file containing the phenotypes of the patients who underwent the brain scans. With phenotype, we mean the set of observable characteristics of an individual. We added a list with the meaning of the different columns of the csv file called _ABIDE_LEGEND_V1.02.pdf_.",
   "id": "c15352b702b60967"
  },
  {
   "metadata": {},
   "cell_type": "code",
   "source": [
    "from pathlib import Path\n",
    "import numpy as np\n",
    "import pandas as pd\n",
    "import polars as pl\n",
    "import matplotlib.pyplot as plt"
   ],
   "id": "6373a2c5b8b09011",
   "outputs": [],
   "execution_count": null
  },
  {
   "metadata": {},
   "cell_type": "code",
   "source": [
    "notebook_dir = Path().resolve()\n",
    "project_root = notebook_dir.parent.parent\n",
    "phenotype_path = project_root / \"data\" / \"Phenotypic_V1_0b_preprocessed1.csv\""
   ],
   "id": "3638277a85efad75",
   "outputs": [],
   "execution_count": null
  },
  {
   "metadata": {},
   "cell_type": "markdown",
   "source": "I notice that the column \"CURR_MED_STATUS\" also has blank values together with values \"0\" and \"1\". This is the reason why I force the column to be interpreted as a string. Pl.Utf8 is a datatype used by Polars to represent strings.",
   "id": "4d3bbe09124bbbb9"
  },
  {
   "metadata": {},
   "cell_type": "code",
   "outputs": [],
   "execution_count": null,
   "source": [
    "pheno_df = pl.read_csv(phenotype_path, null_values=\"\", schema_overrides={'CURRENT_MED_STATUS': pl.Utf8})\n",
    "pheno_df.head()\n"
   ],
   "id": "d50b73512d844006"
  },
  {
   "metadata": {},
   "cell_type": "markdown",
   "source": "Now, we need to compare our csv-file with the .1D files (i.e. the files with the real brain image data). There are more phenotype records in the csv file than files with brain image data. Therefore, we will have to read the filenames of the .1D files. Afterwards, we can delete the phenotype records without corresponding brain image data.",
   "id": "d384740b5933dd7b"
  },
  {
   "metadata": {
    "ExecuteTime": {
     "end_time": "2025-05-19T21:17:01.693576Z",
     "start_time": "2025-05-19T21:17:01.672516Z"
    }
   },
   "cell_type": "code",
   "source": [
    "one_d_path = project_root / \"data\" / \"preprocessed_dataset\" / \"Outputs\" / \"cpac\" / \"filt_noglobal\" / \"rois_cc200\"\n",
    "print(one_d_path)\n",
    "print(one_d_path.exists())\n",
    "subject_ids = [f.stem for f in one_d_path.glob(\"*.1D\")]\n",
    "print(f\"Found {len(subject_ids)} .1D fies\")\n",
    "print(\"example subject IDs:\", subject_ids[:5])"
   ],
   "id": "8e9e583f6cd8f291",
   "outputs": [
    {
     "name": "stdout",
     "output_type": "stream",
     "text": [
      "C:\\ASD Data Science\\ASD-Graph-Analysis\\data\\preprocessed_dataset\\Outputs\\cpac\\filt_noglobal\\rois_cc200\n",
      "True\n",
      "Found 884 .1D fies\n",
      "example subject IDs: ['Caltech_0051456_rois_cc200', 'Caltech_0051457_rois_cc200', 'Caltech_0051458_rois_cc200', 'Caltech_0051459_rois_cc200', 'Caltech_0051460_rois_cc200']\n"
     ]
    }
   ],
   "execution_count": 21
  },
  {
   "metadata": {},
   "cell_type": "code",
   "outputs": [],
   "execution_count": null,
   "source": "",
   "id": "54d7e24f55638f6f"
  }
 ],
 "metadata": {
  "kernelspec": {
   "display_name": "Python 3",
   "language": "python",
   "name": "python3"
  },
  "language_info": {
   "codemirror_mode": {
    "name": "ipython",
    "version": 2
   },
   "file_extension": ".py",
   "mimetype": "text/x-python",
   "name": "python",
   "nbconvert_exporter": "python",
   "pygments_lexer": "ipython2",
   "version": "2.7.6"
  }
 },
 "nbformat": 4,
 "nbformat_minor": 5
}
