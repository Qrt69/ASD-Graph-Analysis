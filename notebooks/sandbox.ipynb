{
 "cells": [
  {
   "cell_type": "code",
   "id": "initial_id",
   "metadata": {
    "collapsed": true,
    "ExecuteTime": {
     "end_time": "2025-03-24T22:12:04.367890Z",
     "start_time": "2025-03-24T22:12:03.823766Z"
    }
   },
   "source": [
    "import pandas as pd\n",
    "\n",
    "    # Load atlas clearly\n",
    "roi_labels = pd.read_csv(r\"C:\\ASD Data Science\\ASD-Graph-Analysis\\data\\CC200_ROI_labels.csv\")\n",
    "roi_labels.columns"
   ],
   "outputs": [
    {
     "data": {
      "text/plain": [
       "Index(['ROI number', 'volume', 'center of mass', 'Dosenbach', 'AAL',\n",
       "       'Eickhoff-Zilles', 'Talairach-Tournoux', 'Harvard-Oxford'],\n",
       "      dtype='object')"
      ]
     },
     "execution_count": 1,
     "metadata": {},
     "output_type": "execute_result"
    }
   ],
   "execution_count": 1
  },
  {
   "metadata": {},
   "cell_type": "code",
   "source": "",
   "id": "47fd906f301d3510",
   "outputs": [],
   "execution_count": null
  }
 ],
 "metadata": {
  "kernelspec": {
   "display_name": "Python 3",
   "language": "python",
   "name": "python3"
  },
  "language_info": {
   "codemirror_mode": {
    "name": "ipython",
    "version": 2
   },
   "file_extension": ".py",
   "mimetype": "text/x-python",
   "name": "python",
   "nbconvert_exporter": "python",
   "pygments_lexer": "ipython2",
   "version": "2.7.6"
  }
 },
 "nbformat": 4,
 "nbformat_minor": 5
}
